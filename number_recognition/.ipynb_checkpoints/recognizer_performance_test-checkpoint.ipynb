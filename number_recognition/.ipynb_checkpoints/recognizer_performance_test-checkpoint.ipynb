{
 "cells": [
  {
   "cell_type": "code",
   "execution_count": 111,
   "id": "18ce0100-e535-4872-bdf0-66f3b0c38434",
   "metadata": {},
   "outputs": [],
   "source": [
    "import cv2\n",
    "from ultralytics import YOLO\n",
    "import numpy\n",
    "import time\n",
    "import os\n",
    "import csv\n",
    "import torch\n",
    "import sys\n",
    "from matplotlib import pyplot as plt"
   ]
  },
  {
   "cell_type": "code",
   "execution_count": 112,
   "id": "92f9eaad-639d-4d28-8391-391af61613fd",
   "metadata": {},
   "outputs": [
    {
     "name": "stdout",
     "output_type": "stream",
     "text": [
      "True\n",
      "0\n",
      "NVIDIA GeForce GTX 1080 Ti\n"
     ]
    }
   ],
   "source": [
    "model_path = \"runs/detect/train4/weights/best.pt\"\n",
    "recognition_model = YOLO(model_path)\n",
    "\n",
    "print(torch.cuda.is_available())\n",
    "print(torch.cuda.current_device())\n",
    "print(torch.cuda.get_device_name(0))"
   ]
  },
  {
   "cell_type": "code",
   "execution_count": 113,
   "id": "6e4b4f91-3b17-4cb9-a204-015f9b3d2f58",
   "metadata": {},
   "outputs": [
    {
     "name": "stdout",
     "output_type": "stream",
     "text": [
      "IoU: 0.14285714285663267\n"
     ]
    }
   ],
   "source": [
    "def calculate_iou(box1, box2):\n",
    "    \"\"\"\n",
    "    Calculate Intersection over Union (IoU) of two bounding boxes.\n",
    "\n",
    "    Parameters:\n",
    "    - box1: Tuple or List representing (x1, y1, x2, y2) of the first box.\n",
    "    - box2: Tuple or List representing (x1, y1, x2, y2) of the second box.\n",
    "\n",
    "    Returns:\n",
    "    - IoU: Intersection over Union.\n",
    "    \"\"\"\n",
    "\n",
    "    # Extract coordinates\n",
    "    x1_1, y1_1, x2_1, y2_1 = box1\n",
    "    x1_2, y1_2, x2_2, y2_2 = box2\n",
    "\n",
    "    # Calculate intersection coordinates\n",
    "    x_intersection = max(0, min(x2_1, x2_2) - max(x1_1, x1_2))\n",
    "    y_intersection = max(0, min(y2_1, y2_2) - max(y1_1, y1_2))\n",
    "\n",
    "    # Calculate areas of boxes and intersection\n",
    "    area_box1 = (x2_1 - x1_1) * (y2_1 - y1_1)\n",
    "    area_box2 = (x2_2 - x1_2) * (y2_2 - y1_2)\n",
    "    area_intersection = x_intersection * y_intersection\n",
    "\n",
    "    # Calculate Union\n",
    "    area_union = area_box1 + area_box2 - area_intersection\n",
    "\n",
    "    # Calculate IoU\n",
    "    iou = area_intersection / (area_union + 1e-10)  # Add a small epsilon to avoid division by zero\n",
    "\n",
    "    return iou\n",
    "\n",
    "# Example usage:\n",
    "box1 = (0, 0, 4, 4)\n",
    "box2 = (2, 2, 6, 6)\n",
    "\n",
    "iou = calculate_iou(box1, box2)\n",
    "print(f\"IoU: {iou}\")\n"
   ]
  },
  {
   "cell_type": "code",
   "execution_count": 115,
   "id": "aac3c6b4-a6b8-4fc5-a398-a3da5afebcad",
   "metadata": {},
   "outputs": [
    {
     "name": "stdout",
     "output_type": "stream",
     "text": [
      "3\n",
      "[2, 2, 3]\n",
      "['2', '2', '3']\n",
      "[(4.096619606018066, 14.759380340576172, 23.24240493774414, 39.740440368652344), (26.267547607421875, 8.024975776672363, 47.812801361083984, 29.147022247314453), (48.79771041870117, 1.3018795251846313, 70.87287139892578, 27.1765193939209)]\n",
      "[(4.449999999999995, 15.3, 23.249999999999993, 39.5), (26.15, 7.900000000000001, 46.949999999999996, 29.6), (48.749999999999986, 2.0999999999999988, 70.55000000000001, 26.799999999999997)]\n",
      "1\n"
     ]
    }
   ],
   "source": [
    "\n",
    "overal_digits = 0\n",
    "overal_predicted_digits = 0\n",
    "overal_correct_digits = 0\n",
    "overal_numbers = 0\n",
    "overal_correct_numbers = 0\n",
    "with open('test_results.csv', 'w', newline='') as csv_file:\n",
    "    writer = csv.writer(csv_file)\n",
    "    field = [\"filename\", \"backnumber\", \"amount_of_numbers\",\"digits_predicted\", \"number_predicted_correct\"]\n",
    "    writer.writerow(field)\n",
    "    progress = 0\n",
    "    for file in os.listdir(os.path.join('datasets','test', 'images')):\n",
    "        img = cv2.imread(os.path.join('datasets','test','images', file))\n",
    "        results = recognition_model(img, verbose=False)\n",
    "        predicted_digits = []\n",
    "        average_x = []\n",
    "        result = results[0].boxes\n",
    "        digits_to_discard = []\n",
    "        boxes = []\n",
    "        for i in range(len(result.cls)):\n",
    "            for j in range(i+1, len(result.cls)):\n",
    "                box1 = (result.xyxy[i][0].item(), result.xyxy[i][1].item(), result.xyxy[i][2].item(), result.xyxy[i][3].item())\n",
    "                box2 = (result.xyxy[j][0].item(), result.xyxy[j][1].item(), result.xyxy[j][2].item(), result.xyxy[j][3].item())\n",
    "                iou = calculate_iou(box1, box2)\n",
    "                if iou > 0.5:\n",
    "                    if result.conf[i].item() > result.conf[j].item():\n",
    "                        digits_to_discard.append(j)\n",
    "                    else:\n",
    "                        digits_to_discard.append(i)\n",
    "                    \n",
    "        for j in range(len(result.cls)):\n",
    "            if j not in digits_to_discard:\n",
    "                predicted_digits.append(int(result.cls[j].item()))\n",
    "                boxes.append( (result.xyxy[j][0].item(), result.xyxy[j][1].item(), result.xyxy[j][2].item(), result.xyxy[j][3].item()))\n",
    "                average_x.append((result.xyxy[j][2].item()+result.xyxy[j][0].item())/2)\n",
    "            \n",
    "        predicted_digits = [x for _,x in sorted(zip(average_x,predicted_digits))]\n",
    "        predicted_boxes = [x for _,x in sorted(zip(average_x,boxes))]\n",
    "        predicted_number =\"\".join([str(i) for i in predicted_digits])\n",
    "        \n",
    "        filename = file.split('.')[0] +'.' + file.split('.')[1] +'.txt'\n",
    "        existing_filepath = os.path.join('datasets','test','labels', filename)\n",
    "        if os.path.exists(existing_filepath): \n",
    "            # Using readlines()\n",
    "            file1 = open(existing_filepath, 'r')\n",
    "            Lines = file1.readlines()\n",
    "            boxes = []\n",
    "            count = 0\n",
    "            number = ''\n",
    "            digits = []\n",
    "            average_x = []\n",
    "            height, width, _ = img.shape\n",
    "            # Strips the newline character\n",
    "            for line in Lines:\n",
    "                count += 1\n",
    "                digits.append(line.split(' ')[0])\n",
    "                average_x.append(line.split(' ')[1])\n",
    "                box = ((float(line.split(' ')[1]) - float(line.split(' ')[3])/2)*width,(float(line.split(' ')[2]) - float(line.split(' ')[4])/2)*height, (float(line.split(' ')[1]) + float(line.split(' ')[3])/2)*width,(float(line.split(' ')[2]) + float(line.split(' ')[4])/2)*height)\n",
    "                boxes.append(box)\n",
    "            digits = [x for _, x in sorted(zip(average_x, digits))]\n",
    "            boxes = [x for _, x in sorted(zip(average_x, boxes))]\n",
    "            number =\"\".join([str(i) for i in digits])\n",
    "            correctly_predicted_digits = 0\n",
    "            already_found = []\n",
    "            for i in range(len(predicted_digits)):\n",
    "                for j in range(len(digits)):\n",
    "                    if j not in already_found:\n",
    "                        if calculate_iou(predicted_boxes[i], boxes[j]) >0.5:\n",
    "                            if predicted_digits[i] == int(digits[j]):\n",
    "                                correctly_predicted_digits += 1\n",
    "                                already_found.append(j)\n",
    "\n",
    "            overal_digits+= count\n",
    "            overal_numbers+= 1\n",
    "            overal_predicted_digits += len(predicted_digits)\n",
    "            overal_correct_digits += correctly_predicted_digits\n",
    "            if number == predicted_number:\n",
    "                overal_correct_numbers += 1\n",
    "            field = [filename, number, str(count), correctly_predicted_digits,number == predicted_number]\n",
    "            writer.writerow(field)\n",
    "            progress+=1\n",
    "            print(progress)\n",
    "        #if progress > 1:\n",
    "            #break\n",
    "        "
   ]
  },
  {
   "cell_type": "code",
   "execution_count": null,
   "id": "71ad1bb7-2858-49ef-945d-5d576df56053",
   "metadata": {},
   "outputs": [],
   "source": []
  }
 ],
 "metadata": {
  "kernelspec": {
   "display_name": "Python 3 (ipykernel)",
   "language": "python",
   "name": "python3"
  },
  "language_info": {
   "codemirror_mode": {
    "name": "ipython",
    "version": 3
   },
   "file_extension": ".py",
   "mimetype": "text/x-python",
   "name": "python",
   "nbconvert_exporter": "python",
   "pygments_lexer": "ipython3",
   "version": "3.11.6"
  }
 },
 "nbformat": 4,
 "nbformat_minor": 5
}
